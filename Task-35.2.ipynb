{
 "cells": [
  {
   "cell_type": "code",
   "execution_count": 1,
   "metadata": {},
   "outputs": [],
   "source": [
    "#  Take 2 images, crop some part of both the images and swap them. "
   ]
  },
  {
   "cell_type": "code",
   "execution_count": 2,
   "metadata": {},
   "outputs": [],
   "source": [
    "# import cv2\n",
    "import cv2"
   ]
  },
  {
   "cell_type": "code",
   "execution_count": 3,
   "metadata": {},
   "outputs": [],
   "source": [
    "# store 1st image in velez\n",
    "velez = cv2.imread(\"velez.png\")"
   ]
  },
  {
   "cell_type": "code",
   "execution_count": 4,
   "metadata": {},
   "outputs": [
    {
     "data": {
      "text/plain": [
       "(667, 374, 3)"
      ]
     },
     "execution_count": 4,
     "metadata": {},
     "output_type": "execute_result"
    }
   ],
   "source": [
    "# size of the velez png\n",
    "velez.shape"
   ]
  },
  {
   "cell_type": "code",
   "execution_count": 5,
   "metadata": {},
   "outputs": [],
   "source": [
    "# store 2nd image in dino\n",
    "dino = cv2.imread(\"dino.jpeg\")"
   ]
  },
  {
   "cell_type": "code",
   "execution_count": 6,
   "metadata": {},
   "outputs": [
    {
     "data": {
      "text/plain": [
       "(667, 374, 3)"
      ]
     },
     "execution_count": 6,
     "metadata": {},
     "output_type": "execute_result"
    }
   ],
   "source": [
    "# size of dino.jpeg\n",
    "dino.shape"
   ]
  },
  {
   "cell_type": "code",
   "execution_count": 7,
   "metadata": {},
   "outputs": [],
   "source": [
    "# view both the images --> wait --> press any key or <ENTER> --> destroy from the window \n",
    "cv2.imshow(\"velez.png\", velez)\n",
    "cv2.imshow(\"dino.jpeg\" , dino)\n",
    "cv2.waitKey(0) == 13\n",
    "cv2.destroyAllWindows()"
   ]
  },
  {
   "cell_type": "code",
   "execution_count": 8,
   "metadata": {},
   "outputs": [],
   "source": [
    "# crope velez.png image\n",
    "crop_velez = velez[0:667, 187:374]"
   ]
  },
  {
   "cell_type": "code",
   "execution_count": 9,
   "metadata": {},
   "outputs": [],
   "source": [
    "# crop dino.jpeg image\n",
    "crop_dino = dino [0:667, 187:374]"
   ]
  },
  {
   "cell_type": "code",
   "execution_count": 10,
   "metadata": {},
   "outputs": [],
   "source": [
    "# view both the crop images --> wait --> press any key or <ENTER> --> destroy from yhe window\n",
    "cv2.imshow(\"velez.png\", crop_velez)\n",
    "cv2.imshow(\"dino.jpeg\" , crop_dino)\n",
    "cv2.waitKey(0) == 13\n",
    "cv2.destroyAllWindows()"
   ]
  },
  {
   "cell_type": "code",
   "execution_count": 11,
   "metadata": {},
   "outputs": [],
   "source": [
    "# swap & crop from velez to dino\n",
    "crop_velez = velez[0:667, 187:374]\n",
    "dino[0:667, 187:374] = crop_velez\n",
    "cv2.imshow(\"Swaping from velez to dino\" , dino) \n",
    "cv2.waitKey() == 13\n",
    "cv2.destroyAllWindows()"
   ]
  },
  {
   "cell_type": "code",
   "execution_count": 12,
   "metadata": {},
   "outputs": [],
   "source": [
    "#swap & crop from dino to velez\n",
    "dino = cv2.imread(\"dino.jpeg\")\n",
    "crop_dino = dino [0:667, 187:374]\n",
    "velez[0:667 , 187:374] = crop_dino\n",
    "cv2.imshow(\"Swaping from dino to velez\" , velez)\n",
    "cv2.waitKey() == 13\n",
    "cv2.destroyAllWindows()"
   ]
  },
  {
   "cell_type": "code",
   "execution_count": null,
   "metadata": {},
   "outputs": [],
   "source": []
  }
 ],
 "metadata": {
  "kernelspec": {
   "display_name": "Python 3",
   "language": "python",
   "name": "python3"
  },
  "language_info": {
   "codemirror_mode": {
    "name": "ipython",
    "version": 3
   },
   "file_extension": ".py",
   "mimetype": "text/x-python",
   "name": "python",
   "nbconvert_exporter": "python",
   "pygments_lexer": "ipython3",
   "version": "3.8.3"
  }
 },
 "nbformat": 4,
 "nbformat_minor": 4
}
